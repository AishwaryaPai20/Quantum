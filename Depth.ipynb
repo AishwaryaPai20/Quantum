{
 "cells": [
  {
   "cell_type": "code",
   "execution_count": 1,
   "id": "0517d0d4-3212-4d77-9fed-00508739c230",
   "metadata": {
    "tags": []
   },
   "outputs": [
    {
     "name": "stdout",
     "output_type": "stream",
     "text": [
      "Circuit Depth: 5\n"
     ]
    }
   ],
   "source": [
    "from qiskit import QuantumCircuit\n",
    "\n",
    "# Create a quantum circuit\n",
    "circuit = QuantumCircuit(4, 2)\n",
    "\n",
    "# Apply gates to the circuit\n",
    "circuit.h(0)\n",
    "circuit.cx(0, 1)\n",
    "circuit.cx(1, 2)\n",
    "circuit.cx(2, 3)\n",
    "circuit.measure([2, 3], [0, 1])\n",
    "\n",
    "# Calculate the depth of the circuit\n",
    "depth = circuit.depth()\n",
    "\n",
    "# Print the depth of the circuit\n",
    "print(\"Circuit Depth:\", depth)\n"
   ]
  },
  {
   "cell_type": "code",
   "execution_count": null,
   "id": "0a68d800-74a4-42aa-ab5a-b6e03efe4c4a",
   "metadata": {},
   "outputs": [],
   "source": []
  }
 ],
 "metadata": {
  "kernelspec": {
   "display_name": "Python 3 (ipykernel)",
   "language": "python",
   "name": "python3"
  },
  "language_info": {
   "codemirror_mode": {
    "name": "ipython",
    "version": 3
   },
   "file_extension": ".py",
   "mimetype": "text/x-python",
   "name": "python",
   "nbconvert_exporter": "python",
   "pygments_lexer": "ipython3",
   "version": "3.10.8"
  },
  "widgets": {
   "application/vnd.jupyter.widget-state+json": {
    "state": {},
    "version_major": 2,
    "version_minor": 0
   }
  }
 },
 "nbformat": 4,
 "nbformat_minor": 5
}
