{
 "cells": [
  {
   "cell_type": "code",
   "execution_count": 7,
   "id": "c7033178-b918-4d4c-82ba-cb07f35b6007",
   "metadata": {
    "tags": []
   },
   "outputs": [
    {
     "name": "stdout",
     "output_type": "stream",
     "text": [
      "Quantum Circuit:\n",
      "\n",
      "State Vector:\n",
      "Statevector([ 0.+0.j,  1.+0.j,  0.+0.j, -0.+0.j],\n",
      "            dims=(2, 2))\n",
      "\n",
      "Bloch Vectors:\n"
     ]
    }
   ],
   "source": [
    "from qiskit import QuantumCircuit, assemble, Aer\n",
    "from qiskit.visualization import plot_histogram, plot_bloch_vector\n",
    "from math import sqrt, pi\n",
    "\n",
    "# Create a quantum circuit with two qubits\n",
    "circuit = QuantumCircuit(2)\n",
    "\n",
    "# Apply X gate to the control qubit (qubit 0)\n",
    "circuit.x(0)\n",
    "\n",
    "# Apply controlled-Z gate between qubit 0 (control) and qubit 1 (target)\n",
    "circuit.cz(0, 1)\n",
    "\n",
    "# Measure the qubits\n",
    "circuit.measure_all()\n",
    "\n",
    "# Draw the circuit\n",
    "print(\"Quantum Circuit:\")\n",
    "circuit.draw()\n",
    "\n",
    "# Simulate the circuit\n",
    "backend = Aer.get_backend('statevector_simulator')\n",
    "job = execute(circuit, backend)\n",
    "result = job.result()\n",
    "state_vector = result.get_statevector()\n",
    "\n",
    "# Print the state vector\n",
    "print(\"\\nState Vector:\")\n",
    "print(state_vector)\n",
    "\n",
    "# Plot the Bloch vector for each qubit\n",
    "print(\"\\nBloch Vectors:\")\n",
    "plot_bloch_multivector(state_vector).show()\n",
    "\n",
    "\n",
    "\n"
   ]
  },
  {
   "cell_type": "code",
   "execution_count": 5,
   "id": "61c83e9b-ef4c-47fd-b873-54848ef5312a",
   "metadata": {
    "tags": []
   },
   "outputs": [
    {
     "name": "stdout",
     "output_type": "stream",
     "text": [
      "Result: 01\n"
     ]
    }
   ],
   "source": [
    "\n",
    "# Simulate the circuit\n",
    "backend = Aer.get_backend('qasm_simulator')\n",
    "job = execute(circuit, backend, shots=1)\n",
    "result = job.result()\n",
    "counts = result.get_counts()\n",
    "\n",
    "# Print the result\n",
    "print(\"Result:\", list(counts.keys())[0])"
   ]
  },
  {
   "cell_type": "code",
   "execution_count": null,
   "id": "96add2ef-5436-43bd-8270-3abdbcdc0063",
   "metadata": {},
   "outputs": [],
   "source": []
  }
 ],
 "metadata": {
  "kernelspec": {
   "display_name": "Python 3 (ipykernel)",
   "language": "python",
   "name": "python3"
  },
  "language_info": {
   "codemirror_mode": {
    "name": "ipython",
    "version": 3
   },
   "file_extension": ".py",
   "mimetype": "text/x-python",
   "name": "python",
   "nbconvert_exporter": "python",
   "pygments_lexer": "ipython3",
   "version": "3.10.8"
  },
  "widgets": {
   "application/vnd.jupyter.widget-state+json": {
    "state": {},
    "version_major": 2,
    "version_minor": 0
   }
  }
 },
 "nbformat": 4,
 "nbformat_minor": 5
}
