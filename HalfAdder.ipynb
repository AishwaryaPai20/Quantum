{
 "cells": [
  {
   "cell_type": "code",
   "execution_count": 14,
   "id": "ba963aab-ece3-4209-9fb0-a0887d9ad014",
   "metadata": {
    "tags": []
   },
   "outputs": [
    {
     "name": "stdout",
     "output_type": "stream",
     "text": [
      "Half Adder Circuit:\n",
      "                          \n",
      "q_0: ──■─────────■────────\n",
      "       │         │        \n",
      "q_1: ──┼────■────■────────\n",
      "     ┌─┴─┐┌─┴─┐  │  ┌─┐   \n",
      "q_2: ┤ X ├┤ X ├──┼──┤M├───\n",
      "     └───┘└───┘┌─┴─┐└╥┘┌─┐\n",
      "q_3: ──────────┤ X ├─╫─┤M├\n",
      "               └───┘ ║ └╥┘\n",
      "c: 2/════════════════╩══╩═\n",
      "                     0  1 \n",
      "\n",
      "Half Adder Result: 00\n"
     ]
    }
   ],
   "source": [
    "from qiskit import QuantumCircuit, Aer, execute\n",
    "\n",
    "# Create a quantum circuit with 4 qubits and 2 classical bits\n",
    "circuit = QuantumCircuit(4, 2)\n",
    "\n",
    "# Apply gates for half adder\n",
    "circuit.cx(0, 2)\n",
    "circuit.cx(1, 2)\n",
    "circuit.ccx(0, 1, 3)\n",
    "circuit.measure([2, 3], [0, 1])\n",
    "\n",
    "# Draw the circuit\n",
    "print(\"Half Adder Circuit:\")\n",
    "print(circuit)\n",
    "\n",
    "# Simulate the circuit\n",
    "backend = Aer.get_backend('qasm_simulator')\n",
    "job = execute(circuit, backend, shots=1)\n",
    "result = job.result().get_counts()\n",
    "\n",
    "# Print the measurement result\n",
    "print(\"\\nHalf Adder Result:\", list(result.keys())[0])\n",
    "\n",
    "\n"
   ]
  },
  {
   "cell_type": "code",
   "execution_count": null,
   "id": "054554a0-ac3e-4ae5-9ec4-9f4675861ac6",
   "metadata": {
    "tags": []
   },
   "outputs": [],
   "source": [
    "\n"
   ]
  },
  {
   "cell_type": "code",
   "execution_count": null,
   "id": "3011c9a9-a78b-4e66-b718-bf329056b8e2",
   "metadata": {
    "tags": []
   },
   "outputs": [],
   "source": [
    "\n"
   ]
  },
  {
   "cell_type": "code",
   "execution_count": null,
   "id": "af3c227a-a770-4216-9301-78796f6a336d",
   "metadata": {},
   "outputs": [],
   "source": []
  }
 ],
 "metadata": {
  "kernelspec": {
   "display_name": "Python 3 (ipykernel)",
   "language": "python",
   "name": "python3"
  },
  "language_info": {
   "codemirror_mode": {
    "name": "ipython",
    "version": 3
   },
   "file_extension": ".py",
   "mimetype": "text/x-python",
   "name": "python",
   "nbconvert_exporter": "python",
   "pygments_lexer": "ipython3",
   "version": "3.10.8"
  },
  "widgets": {
   "application/vnd.jupyter.widget-state+json": {
    "state": {},
    "version_major": 2,
    "version_minor": 0
   }
  }
 },
 "nbformat": 4,
 "nbformat_minor": 5
}
