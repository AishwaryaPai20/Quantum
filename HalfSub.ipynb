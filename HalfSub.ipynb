{
 "cells": [
  {
   "cell_type": "code",
   "execution_count": 2,
   "id": "26a9c2df-2625-4729-940e-70b88e3ed326",
   "metadata": {
    "tags": []
   },
   "outputs": [],
   "source": [
    "import uuid\n",
    "from qiskit import QuantumCircuit\n",
    "\n",
    "class Circuit:\n",
    "    def __init__(self, num_qubits):\n",
    "        self.id = str(uuid.uuid4())\n",
    "        self.circuit = QuantumCircuit(num_qubits)\n",
    "    \n",
    "    def add_gate(self, gate, *qubits):\n",
    "        self.circuit.append(gate, qubits)\n",
    "    \n",
    "    def get_id(self):\n",
    "        return self.id\n",
    "    \n",
    "    def get_circuit(self):\n",
    "        return self.circuit\n",
    "\n"
   ]
  },
  {
   "cell_type": "code",
   "execution_count": 3,
   "id": "330dabd0-a3d1-43dd-b85b-a63318e07192",
   "metadata": {
    "tags": []
   },
   "outputs": [
    {
     "name": "stdout",
     "output_type": "stream",
     "text": [
      "Traceback \u001b[1;36m(most recent call last)\u001b[0m:\n",
      "\u001b[0m  Cell \u001b[0;32mIn[3], line 3\u001b[0m\n",
      "    my_circuit.add_gate(\"h\", 0)\u001b[0m\n",
      "\u001b[0m  Cell \u001b[0;32mIn[2], line 10\u001b[0m in \u001b[0;35madd_gate\u001b[0m\n",
      "    self.circuit.append(gate, qubits)\u001b[0m\n",
      "\u001b[0m  File \u001b[0;32m/opt/conda/lib/python3.10/site-packages/qiskit/circuit/quantumcircuit.py:1271\u001b[0m in \u001b[0;35mappend\u001b[0m\n",
      "    if issubclass(operation, Operation):\u001b[0m\n",
      "\u001b[1;36m  File \u001b[1;32m/opt/conda/lib/python3.10/abc.py:123\u001b[1;36m in \u001b[1;35m__subclasscheck__\u001b[1;36m\n",
      "\u001b[1;33m    return _abc_subclasscheck(cls, subclass)\u001b[1;36m\n",
      "\u001b[1;31mTypeError\u001b[0m\u001b[1;31m:\u001b[0m issubclass() arg 1 must be a class\n",
      "\n",
      "Use %tb to get the full traceback.\n"
     ]
    },
    {
     "data": {
      "text/html": [
       "\n",
       "<style>\n",
       ".button {\n",
       "  border: none;\n",
       "  color: white;\n",
       "  padding: 4px 8px;\n",
       "  text-align: center;\n",
       "  text-decoration: none;\n",
       "  display: inline-block;\n",
       "  font-size: 12px;\n",
       "  margin: 4px 2px;\n",
       "  transition-duration: 0.2s;\n",
       "  cursor: pointer;\n",
       "}\n",
       ".iqx-button {\n",
       "  background-color: #0f62fe; \n",
       "  color: white; \n",
       "}\n",
       ".iqx-button:hover {\n",
       "  background-color: #0043ce;\n",
       "  color: white;\n",
       "}\n",
       "</style>\n",
       "<a href=\"https://stackoverflow.com/search?q=TypeError: issubclass() arg 1 must be a class\" target='_blank'><button class='button iqx-button'>Search for solution online</button></a>\n"
      ],
      "text/plain": [
       "<IPython.core.display.HTML object>"
      ]
     },
     "metadata": {},
     "output_type": "display_data"
    }
   ],
   "source": [
    "\n",
    "# Create a circuit instance\n",
    "my_circuit = Circuit(2)\n",
    "my_circuit.add_gate(\"h\", 0)\n",
    "my_circuit.add_gate(\"cx\", 0, 1)\n",
    "\n",
    "# Print the circuit identifier\n",
    "print(\"Circuit Identifier:\", my_circuit.get_id())\n",
    "\n",
    "# Print the quantum circuit\n",
    "print(\"\\nQuantum Circuit:\")\n",
    "print(my_circuit.get_circuit())"
   ]
  },
  {
   "cell_type": "code",
   "execution_count": null,
   "id": "4e69a4d0-ec4c-463d-9636-0814e33aef10",
   "metadata": {},
   "outputs": [],
   "source": []
  }
 ],
 "metadata": {
  "kernelspec": {
   "display_name": "Python 3 (ipykernel)",
   "language": "python",
   "name": "python3"
  },
  "language_info": {
   "codemirror_mode": {
    "name": "ipython",
    "version": 3
   },
   "file_extension": ".py",
   "mimetype": "text/x-python",
   "name": "python",
   "nbconvert_exporter": "python",
   "pygments_lexer": "ipython3",
   "version": "3.10.8"
  },
  "widgets": {
   "application/vnd.jupyter.widget-state+json": {
    "state": {},
    "version_major": 2,
    "version_minor": 0
   }
  }
 },
 "nbformat": 4,
 "nbformat_minor": 5
}
